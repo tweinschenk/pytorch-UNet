{
 "cells": [
  {
   "cell_type": "code",
   "execution_count": null,
   "id": "569ecd24-4bc1-4b96-80b8-a12b7f65164d",
   "metadata": {},
   "outputs": [],
   "source": [
    "import numpy as np\n",
    "import xir\n",
    "import vitis_ai_library\n",
    "import os\n",
    "import re\n",
    "import time\n",
    "import sys\n",
    "\n",
    "from functools import partial\n",
    "\n",
    "from skimage import io\n",
    "from torchvision import transforms as T\n",
    "from torchvision.transforms import functional as F"
   ]
  },
  {
   "cell_type": "code",
   "execution_count": null,
   "id": "8f4eba97-870e-4b4d-8dd7-71fccf882f99",
   "metadata": {},
   "outputs": [],
   "source": [
    "dataset_dir = \"./images_folder\"\n",
    "results_path = \"./predicted/\"\n",
    "model_path = \"./build_test/comp_model/UNet2D_compiled.xmodel\"\n",
    "save_images = True"
   ]
  },
  {
   "cell_type": "code",
   "execution_count": null,
   "id": "1fc19d3b-42d2-4917-8337-8a24a6ec0adf",
   "metadata": {},
   "outputs": [],
   "source": [
    "image_folder_path = os.path.join(dataset_dir, 'images')"
   ]
  },
  {
   "cell_type": "code",
   "execution_count": null,
   "id": "49c9a510-2b4e-45fb-8c4f-87f26c1b3321",
   "metadata": {},
   "outputs": [],
   "source": [
    "def correct_dims(*images):\n",
    "    corr_images = []\n",
    "    for img in images:\n",
    "        if len(img.shape) == 2:\n",
    "            corr_images.append(np.expand_dims(img, axis=2))\n",
    "        else:\n",
    "            corr_images.append(img)\n",
    "    if len(corr_images) == 1:\n",
    "        return corr_images[0]\n",
    "    else:\n",
    "        return corr_images"
   ]
  },
  {
   "cell_type": "code",
   "execution_count": null,
   "id": "11e2a064-2b6f-4466-a6c7-25e35bcda2eb",
   "metadata": {},
   "outputs": [],
   "source": [
    "def preprocess_fn(image_path):\n",
    "    '''\n",
    "    Image pre-processing.\n",
    "    Opens image as grayscale then normalizes to range 0:1\n",
    "    input arg: path of image file\n",
    "    return: numpy array\n",
    "    '''\n",
    "    image = io.imread(image_path)\n",
    "    image= correct_dims(image)\n",
    "    image = F.to_pil_image(image)\n",
    "    #random crop\n",
    "    i, j, h, w = T.RandomCrop.get_params(image, (256, 256))\n",
    "    image = F.crop(image, i, j, h, w)\n",
    "    \n",
    "    data = np.asarray(image, dtype=np.float32) / 255 #maybe only divide by 128 as the scaling is in signed integer, probably it is also necessary to substract by 1 after that\n",
    "    return data"
   ]
  },
  {
   "cell_type": "code",
   "execution_count": null,
   "id": "651f0685-b3e4-42ca-a2e8-9e6d0144f30e",
   "metadata": {},
   "outputs": [],
   "source": [
    "def reshape_inputs(image_list, inputTensors):\n",
    "    for i in range(0, len(image_list)):\n",
    "        image_list[i] = image_list[i].reshape(inputTensors.dims)"
   ]
  },
  {
   "cell_type": "code",
   "execution_count": null,
   "id": "259a3969-1dda-4e6b-b374-c3db4690c62b",
   "metadata": {},
   "outputs": [],
   "source": [
    "def run_inference(runner, image_list):\n",
    "    inputTensors = runner.get_input_tensors()\n",
    "    output_tensor_buffers = runner.get_outputs() \n",
    "\n",
    "    #list to buffer outputs\n",
    "    outputs = []\n",
    "    \n",
    "    reshape_inputs(image_list[:0], inputTensors)\n",
    "    \n",
    "    \n",
    "    #DPU execution\n",
    "    print(\"run DPU\")\n",
    "    time1 = time.time()\n",
    "    \n",
    "    for image, name in image_list:\n",
    "        #prepare inputData\n",
    "        inputData = []\n",
    "        for inputTensor in inputTensors:\n",
    "            inputData.append(image)\n",
    "        \n",
    "        job_id = runner.execute_async(inputData, output_tensor_buffers)\n",
    "        runner.wait(job_id)\n",
    "        outputs.append( (np.array(output_tensor_buffers[0]), name) )\n",
    "    \n",
    "    time2 = time.time()\n",
    "    timetotal = time2 - time1\n",
    "    fps = float(runTotal / timetotal)\n",
    "    print(\" \")\n",
    "    print(\"FPS=%.2f, total frames = %.0f , time=%.4f seconds\" %(fps,len(image_list), timetotal))\n",
    "    print(\" \")\n",
    "    \n",
    "    return outputs"
   ]
  },
  {
   "cell_type": "code",
   "execution_count": null,
   "id": "d695d20f-2713-4cb1-9a9b-e606e8c55642",
   "metadata": {},
   "outputs": [],
   "source": [
    "#get a list of subgraphs from the compiled model file\n",
    "g = xir.Graph.deserialize(model_path)\n",
    "runner = vitis_ai_library.GraphRunner.create_graph_runner(g)"
   ]
  },
  {
   "cell_type": "code",
   "execution_count": null,
   "id": "93f8004d-f8f5-4378-a872-d4237785ca9d",
   "metadata": {},
   "outputs": [],
   "source": [
    "#Pre Processing images    \n",
    "images_list=[f for f in os.listdir(image_folder_path) if re.match(r'.*\\.png', f)]\n",
    "runTotal = len(images_list)           \n",
    "print('Found',len(images_list),'images - processing',runTotal,'of them')\n",
    "img = []\n",
    "for i in range(runTotal):\n",
    "    path = os.path.join(image_folder_path,images_list[i])\n",
    "    img.append((preprocess_fn(path), images_list[i]))"
   ]
  },
  {
   "cell_type": "code",
   "execution_count": null,
   "id": "811135cb-a8fe-446a-850c-4f135d38a660",
   "metadata": {},
   "outputs": [],
   "source": [
    "outputs = run_inference(runner, img)"
   ]
  },
  {
   "cell_type": "code",
   "execution_count": null,
   "id": "73f49b4a-4855-4a94-818c-cb491caac982",
   "metadata": {},
   "outputs": [],
   "source": [
    "if save_images:\n",
    "    for mask, name in outputs:\n",
    "        mask = np.squeeze(mask)\n",
    "        first_channel = mask[:,:,0] * 255\n",
    "        second_channel = mask[:,:,1] * 255\n",
    "        io.imsave(os.path.join(results_path, name +'_channel_0.png'), first_channel.astype(np.uint8))\n",
    "        io.imsave(os.path.join(results_path, name +'_channel_1.png'), second_channel.astype(np.uint8))"
   ]
  }
 ],
 "metadata": {
  "kernelspec": {
   "display_name": "Python 3 (ipykernel)",
   "language": "python",
   "name": "python3"
  },
  "language_info": {
   "codemirror_mode": {
    "name": "ipython",
    "version": 3
   },
   "file_extension": ".py",
   "mimetype": "text/x-python",
   "name": "python",
   "nbconvert_exporter": "python",
   "pygments_lexer": "ipython3",
   "version": "3.9.9"
  }
 },
 "nbformat": 4,
 "nbformat_minor": 5
}
