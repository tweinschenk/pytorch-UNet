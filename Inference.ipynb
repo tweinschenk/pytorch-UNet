{
 "cells": [
  {
   "cell_type": "code",
   "execution_count": null,
   "id": "d8973aa7-0553-4d25-b744-2ecfc028868f",
   "metadata": {},
   "outputs": [],
   "source": [
    "import matplotlib.pyplot as plt\n",
    "from skimage import io\n",
    "import numpy as np\n",
    "import xir\n",
    "import vart\n",
    "import vitis_ai_library\n",
    "import os\n",
    "\n",
    "from torchvision import transforms as T\n",
    "from torchvision.transforms import functional as F"
   ]
  },
  {
   "cell_type": "code",
   "execution_count": null,
   "id": "35f49542-e8bf-4a98-899d-cda34e4867d1",
   "metadata": {},
   "outputs": [],
   "source": [
    "dataset_path = \"./images_folder/\"\n",
    "model_name = \"./build_test/comp_model/UNet2D_compiled.xmodel\"\n",
    "image_name = \"0e4c2e2780de7ec4312f0efcd86b07c3738d21df30bb4643659962b4da5505a3.png\"\n",
    "DEBUG = False"
   ]
  },
  {
   "cell_type": "code",
   "execution_count": null,
   "id": "68e7c090-5b00-4c27-aa1b-0c5c9491a637",
   "metadata": {},
   "outputs": [],
   "source": [
    "image_folder_path = os.path.join(dataset_path, 'images')\n",
    "mask_folder_path = os.path.join(dataset_path, 'masks')"
   ]
  },
  {
   "cell_type": "code",
   "execution_count": null,
   "id": "29914bde-63b2-40ab-acc7-a91b762cc122",
   "metadata": {},
   "outputs": [],
   "source": [
    "def correct_dims(*images):\n",
    "    corr_images = []\n",
    "    for img in images:\n",
    "        if len(img.shape) == 2:\n",
    "            corr_images.append(np.expand_dims(img, axis=2))\n",
    "        else:\n",
    "            corr_images.append(img)\n",
    "    if len(corr_images) == 1:\n",
    "        return corr_images[0]\n",
    "    else:\n",
    "        return corr_images"
   ]
  },
  {
   "cell_type": "code",
   "execution_count": null,
   "id": "71db11ba-b57d-4239-9f60-73b358816fdf",
   "metadata": {},
   "outputs": [],
   "source": [
    "def preprocess_fn(image_path):\n",
    "    '''\n",
    "    Image pre-processing.\n",
    "    Opens image as grayscale then normalizes to range 0:1\n",
    "    input arg: path of image file\n",
    "    return: numpy array\n",
    "    '''\n",
    "    image = io.imread(os.path.join(image_folder_path, image_name))\n",
    "    mask = io.imread(os.path.join(mask_folder_path, image_name))\n",
    "    image, mask = correct_dims(image, mask)\n",
    "    image, mask = F.to_pil_image(image), F.to_pil_image(mask)\n",
    "    #random crop\n",
    "    i, j, h, w = T.RandomCrop.get_params(image, (256, 256))\n",
    "    image, mask = F.crop(image, i, j, h, w), F.crop(mask, i, j, h, w)\n",
    "    \n",
    "    data = np.asarray(image, dtype=np.float32) / 255 #maybe only divide by 128 as the scaling is in signed integer, probably it is also necessary to substract by 1 after that\n",
    "    return data, mask"
   ]
  },
  {
   "cell_type": "code",
   "execution_count": null,
   "id": "aedb5899-573d-46f9-9a6a-7229d12f4bb6",
   "metadata": {},
   "outputs": [],
   "source": [
    "def run_inference(image_name):\n",
    "    input_image, mask = preprocess_fn(image_name)\n",
    "    \n",
    "    g = xir.Graph.deserialize(model_name)\n",
    "    \n",
    "    \n",
    "    if DEBUG:\n",
    "        print(\"Now printing subgraphs: \\n\")\n",
    "        subgraphs = g.get_root_subgraph().toposort_child_subgraph()\n",
    "        subgraph_number = 0\n",
    "        for graph in subgraphs:\n",
    "            print(\"subgraph \" + str(subgraph_number) + \" \" +  graph.get_name())\n",
    "            subgraph_number += 1\n",
    "        print(\"\\n ____________________________________________________\\n allsubgraphs printed\")\n",
    "        \n",
    "        \n",
    "    runner = vitis_ai_library.GraphRunner.create_graph_runner(g)\n",
    "    # get a list of runner inputs\n",
    "    inputTensors = runner.get_input_tensors()\n",
    "    output_tensor_buffers = runner.get_outputs() \n",
    "    \n",
    "    if DEBUG:\n",
    "        print(\"Now printing input tensors: \\n\")\n",
    "        for inputTensor in inputTensors:\n",
    "            print('Input tensor :',inputTensor.name, inputTensor.dims)\n",
    "        print(\"\\n ____________________________________________________\\n input tensors printed\")\n",
    "    \n",
    "    \n",
    "    if DEBUG:\n",
    "        print(\"\\n Shape of image: \" + str(input_image.shape) + \"\\n\")\n",
    "    \n",
    "    inputData = []\n",
    "    for inputTensor in inputTensors:\n",
    "        inputData.append(input_image.reshape(inputTensor.dims))\n",
    "    job_id = runner.execute_async(inputData, output_tensor_buffers)\n",
    "    runner.wait(job_id)\n",
    "    \n",
    "    return np.array(output_tensor_buffers[0], np.int8), mask"
   ]
  },
  {
   "cell_type": "code",
   "execution_count": null,
   "id": "3d3bf5fe-29b3-4cec-9cab-d828a9b77e20",
   "metadata": {},
   "outputs": [],
   "source": [
    "output, ground_truth_mask = run_inference(image_name)"
   ]
  },
  {
   "cell_type": "code",
   "execution_count": null,
   "id": "d60351d9-c894-4d1e-96e8-74c787b96535",
   "metadata": {},
   "outputs": [],
   "source": [
    "#plot second channel from output\n",
    "%matplotlib widget\n",
    "#mask[mask > 0.1] = 1\n",
    "mask_fig = plt.figure()\n",
    "plt.imshow(output[0,:,:,1])"
   ]
  },
  {
   "cell_type": "code",
   "execution_count": null,
   "id": "332ae30c-0f94-4db6-880d-c201c37aeff6",
   "metadata": {},
   "outputs": [],
   "source": [
    "#plot reference mask\n",
    "%matplotlib widget\n",
    "mask_ref_fig = plt.figure()\n",
    "plt.imshow(ground_truth_mask)"
   ]
  },
  {
   "cell_type": "code",
   "execution_count": null,
   "id": "399410bc-0003-4792-a715-5f01b101be1a",
   "metadata": {},
   "outputs": [],
   "source": [
    "#plot original image\n",
    "%matplotlib widget\n",
    "image = plt.figure()\n",
    "plt.imshow(io.imread(os.path.join(image_folder_path, image_name)))"
   ]
  }
 ],
 "metadata": {
  "kernelspec": {
   "display_name": "Python 3 (ipykernel)",
   "language": "python",
   "name": "python3"
  },
  "language_info": {
   "codemirror_mode": {
    "name": "ipython",
    "version": 3
   },
   "file_extension": ".py",
   "mimetype": "text/x-python",
   "name": "python",
   "nbconvert_exporter": "python",
   "pygments_lexer": "ipython3",
   "version": "3.9.9"
  }
 },
 "nbformat": 4,
 "nbformat_minor": 5
}
